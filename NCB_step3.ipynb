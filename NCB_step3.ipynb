{
  "nbformat": 4,
  "nbformat_minor": 0,
  "metadata": {
    "colab": {
      "name": "NCB_step3.ipynb",
      "version": "0.3.2",
      "provenance": [],
      "include_colab_link": true
    },
    "language_info": {
      "codemirror_mode": {
        "name": "ipython",
        "version": 3
      },
      "file_extension": ".py",
      "mimetype": "text/x-python",
      "name": "python",
      "nbconvert_exporter": "python",
      "pygments_lexer": "ipython3",
      "version": "3.6.7"
    },
    "kernelspec": {
      "display_name": "Python 3",
      "language": "python",
      "name": "python3"
    }
  },
  "cells": [
    {
      "cell_type": "markdown",
      "metadata": {
        "id": "view-in-github",
        "colab_type": "text"
      },
      "source": [
        "<a href=\"https://colab.research.google.com/github/nlpbokproject/NLP_BOK_Team/blob/master/NCB_step3.ipynb\" target=\"_parent\"><img src=\"https://colab.research.google.com/assets/colab-badge.svg\" alt=\"Open In Colab\"/></a>"
      ]
    },
    {
      "cell_type": "code",
      "metadata": {
        "id": "CGcJl95LUI3x",
        "colab_type": "code",
        "colab": {}
      },
      "source": [
        "import pandas as pd\n",
        "from collections import defaultdict\n",
        "import pandas as pd \n",
        "import numpy as np\n",
        "import math"
      ],
      "execution_count": 0,
      "outputs": []
    },
    {
      "cell_type": "code",
      "metadata": {
        "id": "8ZbRvgxnUI3-",
        "colab_type": "code",
        "colab": {},
        "outputId": "6ea5235a-05d5-4527-89e8-c0a20813754f"
      },
      "source": [
        "df = pd.read_csv('NBC_step2_0.csv')\n",
        "df.head()\n",
        "df = df.drop(['Unnamed: 0'] ,axis=1)\n",
        "df.head()"
      ],
      "execution_count": 0,
      "outputs": [
        {
          "output_type": "execute_result",
          "data": {
            "text/html": [
              "<div>\n",
              "<style scoped>\n",
              "    .dataframe tbody tr th:only-of-type {\n",
              "        vertical-align: middle;\n",
              "    }\n",
              "\n",
              "    .dataframe tbody tr th {\n",
              "        vertical-align: top;\n",
              "    }\n",
              "\n",
              "    .dataframe thead th {\n",
              "        text-align: right;\n",
              "    }\n",
              "</style>\n",
              "<table border=\"1\" class=\"dataframe\">\n",
              "  <thead>\n",
              "    <tr style=\"text-align: right;\">\n",
              "      <th></th>\n",
              "      <th>ngrams</th>\n",
              "      <th>counting_h</th>\n",
              "      <th>counting_d</th>\n",
              "      <th>w|pos</th>\n",
              "      <th>w|neg</th>\n",
              "      <th>polarity score</th>\n",
              "      <th>intensity</th>\n",
              "      <th>lable</th>\n",
              "    </tr>\n",
              "  </thead>\n",
              "  <tbody>\n",
              "    <tr>\n",
              "      <th>0</th>\n",
              "      <td>정치/NNG;불확실성/NNG;해소/NNG</td>\n",
              "      <td>6</td>\n",
              "      <td>2</td>\n",
              "      <td>6.092635e-07</td>\n",
              "      <td>2.060165e-07</td>\n",
              "      <td>2.957353</td>\n",
              "      <td>2.957353</td>\n",
              "      <td>1</td>\n",
              "    </tr>\n",
              "    <tr>\n",
              "      <th>1</th>\n",
              "      <td>디폴트/NNG;가능성/NNG;우려/NNG</td>\n",
              "      <td>0</td>\n",
              "      <td>2</td>\n",
              "      <td>4.686642e-08</td>\n",
              "      <td>2.060165e-07</td>\n",
              "      <td>0.227489</td>\n",
              "      <td>4.395823</td>\n",
              "      <td>-1</td>\n",
              "    </tr>\n",
              "    <tr>\n",
              "      <th>2</th>\n",
              "      <td>채권시장/NNG;약세/NNG;되돌/VV</td>\n",
              "      <td>0</td>\n",
              "      <td>2</td>\n",
              "      <td>4.686642e-08</td>\n",
              "      <td>2.060165e-07</td>\n",
              "      <td>0.227489</td>\n",
              "      <td>4.395823</td>\n",
              "      <td>-1</td>\n",
              "    </tr>\n",
              "    <tr>\n",
              "      <th>3</th>\n",
              "      <td>높/VA;정치/NNG;불확실성/NNG</td>\n",
              "      <td>0</td>\n",
              "      <td>1</td>\n",
              "      <td>4.686642e-08</td>\n",
              "      <td>1.236099e-07</td>\n",
              "      <td>0.379148</td>\n",
              "      <td>2.637494</td>\n",
              "      <td>-1</td>\n",
              "    </tr>\n",
              "    <tr>\n",
              "      <th>4</th>\n",
              "      <td>기간스프레드/NNG;확대/NNG</td>\n",
              "      <td>3</td>\n",
              "      <td>2</td>\n",
              "      <td>3.280650e-07</td>\n",
              "      <td>2.060165e-07</td>\n",
              "      <td>1.592421</td>\n",
              "      <td>1.592421</td>\n",
              "      <td>1</td>\n",
              "    </tr>\n",
              "  </tbody>\n",
              "</table>\n",
              "</div>"
            ],
            "text/plain": [
              "                   ngrams  counting_h  counting_d         w|pos         w|neg  \\\n",
              "0  정치/NNG;불확실성/NNG;해소/NNG           6           2  6.092635e-07  2.060165e-07   \n",
              "1  디폴트/NNG;가능성/NNG;우려/NNG           0           2  4.686642e-08  2.060165e-07   \n",
              "2   채권시장/NNG;약세/NNG;되돌/VV           0           2  4.686642e-08  2.060165e-07   \n",
              "3    높/VA;정치/NNG;불확실성/NNG           0           1  4.686642e-08  1.236099e-07   \n",
              "4       기간스프레드/NNG;확대/NNG           3           2  3.280650e-07  2.060165e-07   \n",
              "\n",
              "   polarity score  intensity  lable  \n",
              "0        2.957353   2.957353      1  \n",
              "1        0.227489   4.395823     -1  \n",
              "2        0.227489   4.395823     -1  \n",
              "3        0.379148   2.637494     -1  \n",
              "4        1.592421   1.592421      1  "
            ]
          },
          "metadata": {
            "tags": []
          },
          "execution_count": 4
        }
      ]
    },
    {
      "cell_type": "code",
      "metadata": {
        "id": "TClyciVcUI4N",
        "colab_type": "code",
        "colab": {},
        "outputId": "08dcc8d2-c101-4b38-813d-33f4af3a9f83"
      },
      "source": [
        "dic = defaultdict(lambda : [0, 0])\n",
        "dic['hawki']=[]\n",
        "dic['dovis']=[]\n",
        "for i in range(len(df)):\n",
        "    score = float(df.loc[i]['polarity score'])\n",
        "    if score >= 1:\n",
        "        dic['hawki'].append(df.loc[i]['ngrams'])\n",
        "    else:\n",
        "        dic['dovis'].append(df.loc[i]['ngrams'])\n",
        "    if i % 1000 == 0:\n",
        "        print(i)"
      ],
      "execution_count": 0,
      "outputs": [
        {
          "output_type": "stream",
          "text": [
            "0\n",
            "1000\n",
            "2000\n",
            "3000\n",
            "4000\n",
            "5000\n",
            "6000\n",
            "7000\n",
            "8000\n",
            "9000\n",
            "10000\n",
            "11000\n",
            "12000\n",
            "13000\n",
            "14000\n",
            "15000\n",
            "16000\n",
            "17000\n",
            "18000\n",
            "19000\n",
            "20000\n",
            "21000\n",
            "22000\n",
            "23000\n",
            "24000\n",
            "25000\n",
            "26000\n",
            "27000\n",
            "28000\n",
            "29000\n",
            "30000\n",
            "31000\n",
            "32000\n",
            "33000\n",
            "34000\n",
            "35000\n",
            "36000\n",
            "37000\n",
            "38000\n",
            "39000\n",
            "40000\n",
            "41000\n",
            "42000\n",
            "43000\n",
            "44000\n",
            "45000\n",
            "46000\n",
            "47000\n",
            "48000\n",
            "49000\n",
            "50000\n",
            "51000\n",
            "52000\n",
            "53000\n",
            "54000\n",
            "55000\n",
            "56000\n",
            "57000\n",
            "58000\n",
            "59000\n",
            "60000\n",
            "61000\n",
            "62000\n",
            "63000\n",
            "64000\n",
            "65000\n",
            "66000\n",
            "67000\n",
            "68000\n",
            "69000\n",
            "70000\n",
            "71000\n",
            "72000\n",
            "73000\n",
            "74000\n",
            "75000\n",
            "76000\n",
            "77000\n",
            "78000\n",
            "79000\n",
            "80000\n",
            "81000\n",
            "82000\n",
            "83000\n",
            "84000\n",
            "85000\n",
            "86000\n"
          ],
          "name": "stdout"
        }
      ]
    },
    {
      "cell_type": "code",
      "metadata": {
        "id": "e7yEbK1RUI4d",
        "colab_type": "code",
        "colab": {},
        "outputId": "17f36004-ea3b-4fc9-b55a-c1144a1bb40b"
      },
      "source": [
        "print(len(dic['hawki']))\n",
        "print(len(dic['dovis']))"
      ],
      "execution_count": 0,
      "outputs": [
        {
          "output_type": "stream",
          "text": [
            "44899\n",
            "44899\n"
          ],
          "name": "stdout"
        }
      ]
    },
    {
      "cell_type": "code",
      "metadata": {
        "id": "qDf0L0XdUI4n",
        "colab_type": "code",
        "colab": {}
      },
      "source": [
        "for i in range(len(dic['dovis'])-len(dic['hawki'])):\n",
        "    dic['hawki'].append('Nan')"
      ],
      "execution_count": 0,
      "outputs": []
    },
    {
      "cell_type": "code",
      "metadata": {
        "id": "O2WEVrN5UI4u",
        "colab_type": "code",
        "colab": {},
        "outputId": "630dcdab-0cb5-4347-f1d4-1fe4db6d8987"
      },
      "source": [
        "df_new = pd.DataFrame(dic)\n",
        "df_new.head()"
      ],
      "execution_count": 0,
      "outputs": [
        {
          "output_type": "execute_result",
          "data": {
            "text/html": [
              "<div>\n",
              "<style scoped>\n",
              "    .dataframe tbody tr th:only-of-type {\n",
              "        vertical-align: middle;\n",
              "    }\n",
              "\n",
              "    .dataframe tbody tr th {\n",
              "        vertical-align: top;\n",
              "    }\n",
              "\n",
              "    .dataframe thead th {\n",
              "        text-align: right;\n",
              "    }\n",
              "</style>\n",
              "<table border=\"1\" class=\"dataframe\">\n",
              "  <thead>\n",
              "    <tr style=\"text-align: right;\">\n",
              "      <th></th>\n",
              "      <th>hawki</th>\n",
              "      <th>dovis</th>\n",
              "    </tr>\n",
              "  </thead>\n",
              "  <tbody>\n",
              "    <tr>\n",
              "      <th>0</th>\n",
              "      <td>정치/NNG;불확실성/NNG;해소/NNG</td>\n",
              "      <td>디폴트/NNG;가능성/NNG;우려/NNG</td>\n",
              "    </tr>\n",
              "    <tr>\n",
              "      <th>1</th>\n",
              "      <td>기간스프레드/NNG;확대/NNG</td>\n",
              "      <td>채권시장/NNG;약세/NNG;되돌/VV</td>\n",
              "    </tr>\n",
              "    <tr>\n",
              "      <th>2</th>\n",
              "      <td>통과/NNG</td>\n",
              "      <td>높/VA;정치/NNG;불확실성/NNG</td>\n",
              "    </tr>\n",
              "    <tr>\n",
              "      <th>3</th>\n",
              "      <td>상징/NNG</td>\n",
              "      <td>안전자산/NNG;우호적/VAX</td>\n",
              "    </tr>\n",
              "    <tr>\n",
              "      <th>4</th>\n",
              "      <td>데드라인/NNG</td>\n",
              "      <td>단기/NNG;불확실성/NNG</td>\n",
              "    </tr>\n",
              "  </tbody>\n",
              "</table>\n",
              "</div>"
            ],
            "text/plain": [
              "                    hawki                   dovis\n",
              "0  정치/NNG;불확실성/NNG;해소/NNG  디폴트/NNG;가능성/NNG;우려/NNG\n",
              "1       기간스프레드/NNG;확대/NNG   채권시장/NNG;약세/NNG;되돌/VV\n",
              "2                  통과/NNG    높/VA;정치/NNG;불확실성/NNG\n",
              "3                  상징/NNG        안전자산/NNG;우호적/VAX\n",
              "4                데드라인/NNG         단기/NNG;불확실성/NNG"
            ]
          },
          "metadata": {
            "tags": []
          },
          "execution_count": 28
        }
      ]
    },
    {
      "cell_type": "code",
      "metadata": {
        "id": "9D9jmbp4UI45",
        "colab_type": "code",
        "colab": {}
      },
      "source": [
        "df_new.to_csv('NCB_step3.csv', encoding='utf-8', mode = 'w')"
      ],
      "execution_count": 0,
      "outputs": []
    }
  ]
}