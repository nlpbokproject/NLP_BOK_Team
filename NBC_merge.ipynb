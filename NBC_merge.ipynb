{
  "nbformat": 4,
  "nbformat_minor": 0,
  "metadata": {
    "colab": {
      "name": "NBC_merge.ipynb",
      "version": "0.3.2",
      "provenance": [],
      "include_colab_link": true
    },
    "language_info": {
      "codemirror_mode": {
        "name": "ipython",
        "version": 3
      },
      "file_extension": ".py",
      "mimetype": "text/x-python",
      "name": "python",
      "nbconvert_exporter": "python",
      "pygments_lexer": "ipython3",
      "version": "3.6.7"
    },
    "kernelspec": {
      "display_name": "Python 3",
      "language": "python",
      "name": "python3"
    }
  },
  "cells": [
    {
      "cell_type": "markdown",
      "metadata": {
        "id": "view-in-github",
        "colab_type": "text"
      },
      "source": [
        "<a href=\"https://colab.research.google.com/github/nlpbokproject/NLP_BOK_Team/blob/master/NBC_merge.ipynb\" target=\"_parent\"><img src=\"https://colab.research.google.com/assets/colab-badge.svg\" alt=\"Open In Colab\"/></a>"
      ]
    },
    {
      "cell_type": "code",
      "metadata": {
        "scrolled": false,
        "id": "6Hcwf4EhR-hp",
        "colab_type": "code",
        "colab": {}
      },
      "source": [
        "#190527 전처리 다시 위해 수정 - jh\n",
        "\n",
        "import pandas as pd\n",
        "import glob\n",
        "\n",
        "files = glob.glob(\"./DATA/NBC/NBC_final/*.csv\")\n",
        "count = 0\n",
        "for file in files :\n",
        "    df = pd.read_csv(file)\n",
        "    try :\n",
        "        if count==0:\n",
        "            df[['date', 'ngram+unigram', 'label']].to_csv('./DATA/NBC/merged.csv', mode='w', index=False)\n",
        "        else:\n",
        "            df[['date', 'ngram+unigram', 'label']].to_csv('./DATA/NBC/merged.csv', mode='a', index=False, header=False)\n",
        "        count = 1\n",
        "    except : \n",
        "        df.rename({'token+ngram':'ngram+unigram'}, axis='columns')\n",
        "        df[['date', 'ngram+unigram', 'label']].to_csv('./DATA/NBC/merged.csv', mode='a', index=False, header=False)\n",
        "        print(\"성공\")\n"
      ],
      "execution_count": 0,
      "outputs": []
    },
    {
      "cell_type": "code",
      "metadata": {
        "id": "Iyu9jLlVR-h0",
        "colab_type": "code",
        "colab": {}
      },
      "source": [
        "import pandas as pd\n",
        "\n",
        "\n",
        "files = glob(\"./DATA/NBC/NBC_final/*.csv\")\n",
        "\n",
        "for file in files :\n",
        "    \n",
        "base_df = pd.read_csv(\"./DATA/NBC/NBC-2006-2012_step1.csv\")\n",
        "base_df.to_csv('./DATA/NBC/NBC-merged.csv', mode='w', index=False)\n",
        "print(\"1 성공\")\n",
        "\n",
        "df1 = pd.read_csv(\"./DATA/NBC/NBC-yeonhap_info_step1.csv\")\n",
        "df1[['date', 'ngram+unigram', 'label']].to_csv('./DATA/NBC/NBC-merged.csv', mode='a', index=False, header=False)\n",
        "print(\"2 성공\")"
      ],
      "execution_count": 0,
      "outputs": []
    },
    {
      "cell_type": "code",
      "metadata": {
        "id": "9upe5swAR-h8",
        "colab_type": "code",
        "colab": {},
        "outputId": "55dc9214-a5af-4e3b-d4b7-c4cd35ae6c24"
      },
      "source": [
        "df1 = pd.read_csv(\"./DATA/NBC/NBC-yeonhap_info_step1.csv\")\n",
        "df1[['ngram+unigram', 'label']].to_csv('./DATA/NBC/NBC-yeonhap_info_step1-1.csv', mode='w', index=False, header=False)\n",
        "print(\"2 성공\")\n",
        "#dictionary 생성을 위해 데이터 정리."
      ],
      "execution_count": 0,
      "outputs": [
        {
          "output_type": "stream",
          "text": [
            "2 성공\n"
          ],
          "name": "stdout"
        }
      ]
    },
    {
      "cell_type": "code",
      "metadata": {
        "id": "mlwk-35zR-iL",
        "colab_type": "code",
        "colab": {},
        "outputId": "4900a4f3-b175-4e8f-f1e5-007785dfaf3e"
      },
      "source": [
        "df1.head()"
      ],
      "execution_count": 0,
      "outputs": [
        {
          "output_type": "execute_result",
          "data": {
            "text/html": [
              "<div>\n",
              "<style scoped>\n",
              "    .dataframe tbody tr th:only-of-type {\n",
              "        vertical-align: middle;\n",
              "    }\n",
              "\n",
              "    .dataframe tbody tr th {\n",
              "        vertical-align: top;\n",
              "    }\n",
              "\n",
              "    .dataframe thead th {\n",
              "        text-align: right;\n",
              "    }\n",
              "</style>\n",
              "<table border=\"1\" class=\"dataframe\">\n",
              "  <thead>\n",
              "    <tr style=\"text-align: right;\">\n",
              "      <th></th>\n",
              "      <th>Unnamed: 0</th>\n",
              "      <th>date</th>\n",
              "      <th>ngram+unigram</th>\n",
              "      <th>label</th>\n",
              "    </tr>\n",
              "  </thead>\n",
              "  <tbody>\n",
              "    <tr>\n",
              "      <th>0</th>\n",
              "      <td>0</td>\n",
              "      <td>2017.01.01</td>\n",
              "      <td>초대형투자은행/NNG.시대/NNG.본격/NNG.도래/NNG.하/XSV.출범/NNG....</td>\n",
              "      <td>1</td>\n",
              "    </tr>\n",
              "    <tr>\n",
              "      <th>1</th>\n",
              "      <td>1</td>\n",
              "      <td>2017.01.01</td>\n",
              "      <td>외부충격/NNG.대해/VV.충분/NNG.흡수력/NNG.유지/NNG.하/VV.있/VV...</td>\n",
              "      <td>1</td>\n",
              "    </tr>\n",
              "    <tr>\n",
              "      <th>2</th>\n",
              "      <td>2</td>\n",
              "      <td>2017.01.02</td>\n",
              "      <td>저축은행/NNG.비합리/NNG.대출/NNG.금리/NNG.산정/NNG.관행/NNG.지...</td>\n",
              "      <td>1</td>\n",
              "    </tr>\n",
              "    <tr>\n",
              "      <th>3</th>\n",
              "      <td>3</td>\n",
              "      <td>2017.01.02</td>\n",
              "      <td>국고채/NNG.금리/NNG.하락/NNG.하/VV.외국인/NNG.현선물/NNG.매수/...</td>\n",
              "      <td>1</td>\n",
              "    </tr>\n",
              "    <tr>\n",
              "      <th>4</th>\n",
              "      <td>4</td>\n",
              "      <td>2017.01.02</td>\n",
              "      <td>irs/NNG.irs/NNG.금리/NNG.구간/NNG.걸치/VV.하락/NNG.하/V...</td>\n",
              "      <td>1</td>\n",
              "    </tr>\n",
              "  </tbody>\n",
              "</table>\n",
              "</div>"
            ],
            "text/plain": [
              "   Unnamed: 0        date                                      ngram+unigram  \\\n",
              "0           0  2017.01.01  초대형투자은행/NNG.시대/NNG.본격/NNG.도래/NNG.하/XSV.출범/NNG....   \n",
              "1           1  2017.01.01  외부충격/NNG.대해/VV.충분/NNG.흡수력/NNG.유지/NNG.하/VV.있/VV...   \n",
              "2           2  2017.01.02  저축은행/NNG.비합리/NNG.대출/NNG.금리/NNG.산정/NNG.관행/NNG.지...   \n",
              "3           3  2017.01.02  국고채/NNG.금리/NNG.하락/NNG.하/VV.외국인/NNG.현선물/NNG.매수/...   \n",
              "4           4  2017.01.02  irs/NNG.irs/NNG.금리/NNG.구간/NNG.걸치/VV.하락/NNG.하/V...   \n",
              "\n",
              "   label  \n",
              "0      1  \n",
              "1      1  \n",
              "2      1  \n",
              "3      1  \n",
              "4      1  "
            ]
          },
          "metadata": {
            "tags": []
          },
          "execution_count": 25
        }
      ]
    },
    {
      "cell_type": "code",
      "metadata": {
        "id": "o8NyhMTnR-iW",
        "colab_type": "code",
        "colab": {}
      },
      "source": [
        "check_df = pd.read_csv(\"./DATA/NBC/NBC-merged.csv\")"
      ],
      "execution_count": 0,
      "outputs": []
    },
    {
      "cell_type": "code",
      "metadata": {
        "id": "CDy8bdL2R-id",
        "colab_type": "code",
        "colab": {},
        "outputId": "d901bd63-c8e7-4932-e406-c2e965335a0f"
      },
      "source": [
        "\n",
        "df2 = pd.read_csv(\"./DATA/NBC/NBC_yeonhap_step1.csv\")\n",
        "df2.rename(columns={'token+ngram':'ngram+unigram', ' label':'label'}, inplace=True)\n",
        "print(df2)\n",
        "df2[['date', 'ngram+unigram', 'label']].to_csv('./DATA/NBC/NBC-merged.csv', mode='a', index=False, header=False)\n",
        "print(\"3 성공\")\n",
        "\n",
        "check_df = pd.read_csv(\"./DATA/NBC/NBC-merged.csv\")\n"
      ],
      "execution_count": 0,
      "outputs": [
        {
          "output_type": "stream",
          "text": [
            "      Unnamed: 0        date  \\\n",
            "0             24  2017-01-01   \n",
            "1             25  2017-01-01   \n",
            "2             26  2017-01-01   \n",
            "3             27  2017-01-01   \n",
            "4             28  2017-01-01   \n",
            "5             29  2017-01-01   \n",
            "6             30  2017-01-01   \n",
            "7             31  2017-01-01   \n",
            "8             32  2017-01-01   \n",
            "9             33  2017-01-01   \n",
            "10            34  2017-01-01   \n",
            "11            35  2017-01-01   \n",
            "12            36  2017-01-01   \n",
            "13            37  2017-01-01   \n",
            "14            38  2017-01-02   \n",
            "15            39  2017-01-02   \n",
            "16            40  2017-01-02   \n",
            "17            41  2017-01-02   \n",
            "18            42  2017-01-02   \n",
            "19            43  2017-01-02   \n",
            "20            44  2017-01-02   \n",
            "21            45  2017-01-02   \n",
            "22            46  2017-01-02   \n",
            "23            47  2017-01-02   \n",
            "24            48  2017-01-02   \n",
            "25            49  2017-01-02   \n",
            "26            50  2017-01-02   \n",
            "27            51  2017-01-02   \n",
            "28            52  2017-01-02   \n",
            "29            53  2017-01-02   \n",
            "...          ...         ...   \n",
            "5555        5579  2017-12-28   \n",
            "5556        5580  2017-12-28   \n",
            "5557        5581  2017-12-28   \n",
            "5558        5582  2017-12-28   \n",
            "5559        5583  2017-12-28   \n",
            "5560        5584  2017-12-28   \n",
            "5561        5585  2017-12-28   \n",
            "5562        5586  2017-12-28   \n",
            "5563        5587  2017-12-28   \n",
            "5564        5588  2017-12-28   \n",
            "5565        5589  2017-12-28   \n",
            "5566        5590  2017-12-28   \n",
            "5567        5591  2017-12-28   \n",
            "5568        5592  2017-12-29   \n",
            "5569        5593  2017-12-29   \n",
            "5570        5594  2017-12-29   \n",
            "5571        5595  2017-12-29   \n",
            "5572        5596  2017-12-29   \n",
            "5573        5597  2017-12-29   \n",
            "5574        5598  2017-12-29   \n",
            "5575        5599  2017-12-29   \n",
            "5576        5600  2017-12-29   \n",
            "5577        5601  2017-12-29   \n",
            "5578        5602  2017-12-29   \n",
            "5579        5603  2017-12-29   \n",
            "5580        5604  2017-12-29   \n",
            "5581        5605  2017-12-29   \n",
            "5582        5606  2017-12-29   \n",
            "5583        5607  2017-12-29   \n",
            "5584        5608  2017-12-29   \n",
            "\n",
            "                                          ngram+unigram  label  \n",
            "0     근로자/NNG.햇살론/NNG.한도/NNG.늘/VV.대출/NNG.박의/NNG.기자/N...      1  \n",
            "1     주택시장/NNG.결산/NNG.제공/NNG.서/VV.미숙/NNG.기자/NNG.주택시장...      1  \n",
            "2     소득/NNG.대비/NNG.대출비율/NNG.급등/NNG.젊은층/NNG.주택자금/NNG...      1  \n",
            "3     문/NNG.여/NNG.손안/NNG.은행/NNG.오픈/NNG.제공/NNG.박의/NNG...      1  \n",
            "4     일제히/MAG.시무식/NNG.혁신/NNG.통하/VV.경쟁력/NNG.강화/NNG.강조...      1  \n",
            "5     유년/NNG.희망찬/VA.새해/NNG.밝/VA.가족/NNG.모두/NNG.행복/NNG...      1  \n",
            "6     기자/NNG.각오/NNG.단단히/MAG.하/VV.모은/VV.역량/NNG.바탕/NNG...      1  \n",
            "7     교보/NNG.투자/NNG.우발채무/NNG.비중/NNG.넘/VV.기자/NNG.부동산/...      1  \n",
            "8     금융/NNG.엄중/NNG.위기/NNG.속/NNG.각오/NNG.강조/NNG.빈틈없/V...      1  \n",
            "9     금융/NNG.엄중/NNG.위기/NNG.속/NNG.각오/NNG.강조/NNG.빈틈없/V...      1  \n",
            "10    짙/VA.안갯속/NNG.수출/NNG.연속/NNG.상승/NNG.긍정적/VAX.미/NN...      1  \n",
            "11    금/NNG.검/VA.황금/NNG.원유/NNG.가격/NNG.대비/NNG.상승/NNG....      1  \n",
            "12    넘/VV.오르/VV.유학/NNG.비/NNG.송금/NNG.감직/VV.구족/NNG.부담...      1  \n",
            "13    취임/NNG.환율/NNG.안정화/NNG.되/VV.환율/NNG.급등/NNG.꼭/MAG...      1  \n",
            "14    박의/NNG.기자/NNG.민영화/NNG.성공/NNG.기념/NNG.거래/NNG.고객/...      1  \n",
            "15    관계없/VA.고금리/NNG.제동/NNG.저축은행/NNG.중앙/NNG.표준/NNG.규...      1  \n",
            "16    공급/NNG.증가/NNG.대출/NNG.규제/NNG.강화/NNG.하락/NNG.압력/N...      1  \n",
            "17    금리/NNG.역전/NNG.되/VV.괜찮/VA.예단/NNG.어렵/VA.기자/NNG.신...      1  \n",
            "18    증권/NNG.업계/NNG.생각/NNG.크/VA.말씀/NNG.드릴/VV.있/VV.바로...      1  \n",
            "19    소식/NNG.퇴직자/NNG.재취업/NNG.지원/NNG.사업/NNG.성과/NNG.자료...      1  \n",
            "20    시무식/NNG.밝히/VV.자료/NNG.박대/NNG.하/VV.기자/NNG.위기/NNG...      1  \n",
            "21    퇴직/NNG.중/NNG.국민/NNG.나가/VV.국책은행/NNG.안전지대/NNG.산업...      1  \n",
            "22    브렉시트/NNG.대선/NNG.당선/NNG.정치/NNG.혼란/NNG.금융시장/NNG....      1  \n",
            "23    증권/NNG.파생상품시장/NNG.개장식/NNG.정치/NNG.테마주/NNG.세력/NN...      1  \n",
            "24    유년/NNG.丁/NNG.酉年/NNG.새해/NNG.경제/NNG.위기감/NNG.때/NN...      1  \n",
            "25    경제자유구역/NNG.송도/NNG.국제/NNG.전경/NNG.자료/NNG.기자/NNG....      1  \n",
            "26    기자/NNG.달러/NNG.강세/NNG.지속/NNG.유로/NNG.가격/NNG.달러/N...      1  \n",
            "27    노후/NNG.경유/NNG.차/NNG.지원/NNG.귀/NNG.여비/NNG.저금리/NN...      1  \n",
            "28    초고/NNG.효율/NNG.스피드/NNG.성장/NNG.기회/NNG.만들/VV.기병/N...      1  \n",
            "29    법무부/NNG.길/VA.급인/NNG.구속/NNG.청구/NNG.키로/XSV.신병/NN...      1  \n",
            "...                                                 ...    ...  \n",
            "5555  보험/NNG.보장/NNG.범위/NNG.늘/VV.실손/NNG.보험/NNG.가격/NNG...      1  \n",
            "5556  기자/NNG.특허/NNG.기술/NNG.사업/NNG.하/XSV.기업/NNG.지원/NN...      1  \n",
            "5557  법정최고금리/NNG.인하/NNG.새해/NNG.달라지/VV.금융제도/NNG.박의/NN...      1  \n",
            "5558  상호금융/NNG.기업/NNG.대출/NNG.충당금/NNG.적립/NNG.부담/NNG.완...      1  \n",
            "5559  출범/NNG.사용/NNG.안/MAG.기업/NNG.구조조정/NNG.지원/NNG.위하/...      1  \n",
            "5560  내외/NNG.견실/NNG.성장/NNG.물가/NNG.목표/NNG.근접/NNG.가계/N...      1  \n",
            "5561  수출/NNG.호조/NNG.금리/NNG.인상/NNG.외환당국/NNG.소극적/VAX.개...      1  \n",
            "5562  기자/NNG.경기/NNG.신용보증/NNG.재단/NNG.사회적경제/NNG.기업/NNG...      1  \n",
            "5563  새해/NNG.주택/NNG.건설/NNG.모두/NNG.풍요/NNG.행복/NNG.가정/N...      1  \n",
            "5564  뉴욕/NNG.은실/NNG.특파원/NNG.지수/NNG.나타나/VV.원자재/NNG.가격...      1  \n",
            "5565  뉴욕/NNG.은실/NNG.특파원/NNG.지수/NNG.거래/NNG.감소/NNG.하/V...      1  \n",
            "5566  물가/NNG.안정/NNG.금리/NNG.인하/NNG.소득/NNG.증가/NNG.고용/N...      1  \n",
            "5567  뉴욕/NNG.은실/NNG.특파원/NNG.지수/NNG.금융/NNG.주가/NNG.하락/...      1  \n",
            "5568  보/VV.통화정책/NNG.결정/NNG.시/NNG.경기/NNG.유의/NNG.하/VV....      1  \n",
            "5569  미/NNG.감세안/NNG.통과/NNG.국채/NNG.발행/NNG.증가/NNG.환율/N...      1  \n",
            "5570  고객/NNG.몰래/MAG.대출/NNG.금리/NNG.인상/NNG.혐의/NNG.법원/N...      1  \n",
            "5571  기자/NNG.세계/NNG.금융위기/NNG.뒤/NNG.지속/NNG.금융/NNG.완화/...      1  \n",
            "5572  배/NNG.수준/NNG.서민/NNG.비과세/NNG.한도/NNG.상향/NNG.중도/N...      1  \n",
            "5573  금리/NNG.인상/NNG.시/NNG.기업/NNG.가계/NNG.부채/NNG.챙길/VV...      1  \n",
            "5574  재건축/NNG.단지/MAG.상승/NNG.후속/NNG.조치/NNG.안정/NNG.회복/...      1  \n",
            "5575  서/VV.미숙/NNG.기자/NNG.존경/NNG.하/XSV.건설/NNG.희망찬/VA....      1  \n",
            "5576  문학/NNG.시/NNG.시민/NNG.우롱/NNG.절차/NNG.예의/NNG.주시/NN...      1  \n",
            "5577  순간/NNG.금리/NNG.유가/NNG.환율/NNG.부동산/NNG.경제/NNG.위협/...      1  \n",
            "5578  새/NNG.유입/NNG.기대/NNG.기자/NNG.접어들/VV.증시/NNG.주춤거리/...      1  \n",
            "5579  위안부/NNG.합의/NNG.당사자/NNG.적반하장/NNG.불법/NNG.지시/NNG....      1  \n",
            "5580  위안부/NNG.합의/NNG.중대/NNG.흠결/NNG.후속/NNG.조치/NNG.마련/...      1  \n",
            "5581  뉴욕/NNG.은실/NNG.특파원/NNG.다우존스산업평균지수/NNG.거래일/NNG.남...      1  \n",
            "5582  느끼/VV.못하/VX.정책/NNG.없/VA.정책/NNG.다름없/VA.이율/NNG.기...      1  \n",
            "5583  예상밖/NNG.달러/NNG.강세/NNG.신흥시장/NNG.최대/NNG.위험/NNG.미...      1  \n",
            "5584  판매/NNG.넘/VV.판매/NNG.증가/NNG.나타나/VV.보/VV.현지/NNG.업...      1  \n",
            "\n",
            "[5585 rows x 4 columns]\n",
            "3 성공\n"
          ],
          "name": "stdout"
        }
      ]
    },
    {
      "cell_type": "code",
      "metadata": {
        "scrolled": true,
        "id": "iK9jyXBfR-im",
        "colab_type": "code",
        "colab": {},
        "outputId": "c979c9b2-db17-445c-9945-8dff0fbe1f90"
      },
      "source": [
        "\n",
        "df3 = pd.read_csv(\"./DATA/NBC/NBC-minute_step1.csv\")\n",
        "df3.rename(columns={'ngrams':'ngram+unigram'}, inplace=True)\n",
        "df3[['date', 'ngram+unigram', 'label']].to_csv('./DATA/NBC/NBC-merged.csv', mode='a', index=False, header=False)\n",
        "print(\"4 성공\")\n",
        "\n",
        "check_df = pd.read_csv(\"./DATA/NBC/NBC-merged.csv\")\n",
        "print(check_df.shape)\n",
        "\n",
        "\"\"\"base_df.append(df1)\n",
        "print(base_df.shape)\n",
        "base_df.append(df2)\n",
        "print(base_df.shape)\"\"\"\n",
        "#final_df = pd.concat([base_df,df1, df2], axis=1)\n",
        "\n",
        "\n",
        "\"\"\"final_df = pd.merge(base_df, df1, how='inner', on='date')\n",
        "final_df = pd.merge(base_df, df1, how='inner', on='date')\n",
        "final_df\"\"\"\n",
        "#final_df.to_csv('./DATA/NBC/NBC-leftovers_step1.csv', mode='a', index=False)"
      ],
      "execution_count": 0,
      "outputs": [
        {
          "output_type": "stream",
          "text": [
            "4 성공\n",
            "(166049, 3)\n"
          ],
          "name": "stdout"
        },
        {
          "output_type": "execute_result",
          "data": {
            "text/plain": [
              "\"final_df = pd.merge(base_df, df1, how='inner', on='date')\\nfinal_df = pd.merge(base_df, df1, how='inner', on='date')\\nfinal_df\""
            ]
          },
          "metadata": {
            "tags": []
          },
          "execution_count": 28
        }
      ]
    },
    {
      "cell_type": "code",
      "metadata": {
        "id": "cb6KjnuXR-it",
        "colab_type": "code",
        "colab": {},
        "outputId": "5a0aca35-60cc-44be-a09a-9577d468caf6"
      },
      "source": [
        "df4 = pd.read_csv(\"./DATA/NBC/NBC-bond_step1.csv\")\n",
        "df4.rename(columns={'token+ngram':'ngram+unigram', ' label':'label'}, inplace=True)\n",
        "df4[['date', 'ngram+unigram', 'label']].to_csv('./DATA/NBC/NBC-merged.csv', mode='a', index=False, header=False)\n",
        "print(\"4 성공\")\n",
        "\n",
        "check_df = pd.read_csv(\"./DATA/NBC/NBC-merged.csv\")\n",
        "print(check_df.shape)\n"
      ],
      "execution_count": 0,
      "outputs": [
        {
          "output_type": "stream",
          "text": [
            "4 성공\n",
            "(166482, 3)\n"
          ],
          "name": "stdout"
        }
      ]
    },
    {
      "cell_type": "code",
      "metadata": {
        "id": "5achHwqKR-i0",
        "colab_type": "code",
        "colab": {},
        "outputId": "4900e98f-7e04-4cc7-90fd-c2339de35ae7"
      },
      "source": [
        "check_df.head()"
      ],
      "execution_count": 0,
      "outputs": [
        {
          "output_type": "execute_result",
          "data": {
            "text/html": [
              "<div>\n",
              "<style scoped>\n",
              "    .dataframe tbody tr th:only-of-type {\n",
              "        vertical-align: middle;\n",
              "    }\n",
              "\n",
              "    .dataframe tbody tr th {\n",
              "        vertical-align: top;\n",
              "    }\n",
              "\n",
              "    .dataframe thead th {\n",
              "        text-align: right;\n",
              "    }\n",
              "</style>\n",
              "<table border=\"1\" class=\"dataframe\">\n",
              "  <thead>\n",
              "    <tr style=\"text-align: right;\">\n",
              "      <th></th>\n",
              "      <th>date</th>\n",
              "      <th>ngram+unigram</th>\n",
              "      <th>label</th>\n",
              "    </tr>\n",
              "  </thead>\n",
              "  <tbody>\n",
              "    <tr>\n",
              "      <th>0</th>\n",
              "      <td>2006.01.01</td>\n",
              "      <td>장단기/NNG,금리/NNG,역전/NNG,현상/NNG,국제/NNG,유가/NNG,흐름/...</td>\n",
              "      <td>1</td>\n",
              "    </tr>\n",
              "    <tr>\n",
              "      <th>1</th>\n",
              "      <td>2006.01.01</td>\n",
              "      <td>주식시장/NNG,납회/NNG,구랍/NNG,주식시장/NNG,사상/NNG,최고가/NNG...</td>\n",
              "      <td>1</td>\n",
              "    </tr>\n",
              "    <tr>\n",
              "      <th>2</th>\n",
              "      <td>2006.01.01</td>\n",
              "      <td>경제/NNG,훨씬/MAG,좋/VA,장밋빛/NNG,전망/NNG,대세/NNG,이루/VV...</td>\n",
              "      <td>1</td>\n",
              "    </tr>\n",
              "    <tr>\n",
              "      <th>3</th>\n",
              "      <td>2006.01.01</td>\n",
              "      <td>NaN</td>\n",
              "      <td>1</td>\n",
              "    </tr>\n",
              "    <tr>\n",
              "      <th>4</th>\n",
              "      <td>2006.01.01</td>\n",
              "      <td>중소기업청/NNG,폭설/NNG,피해/NNG,입/VV,중소기업/NNG,신속/NNG,복...</td>\n",
              "      <td>1</td>\n",
              "    </tr>\n",
              "  </tbody>\n",
              "</table>\n",
              "</div>"
            ],
            "text/plain": [
              "         date                                      ngram+unigram label\n",
              "0  2006.01.01  장단기/NNG,금리/NNG,역전/NNG,현상/NNG,국제/NNG,유가/NNG,흐름/...     1\n",
              "1  2006.01.01  주식시장/NNG,납회/NNG,구랍/NNG,주식시장/NNG,사상/NNG,최고가/NNG...     1\n",
              "2  2006.01.01  경제/NNG,훨씬/MAG,좋/VA,장밋빛/NNG,전망/NNG,대세/NNG,이루/VV...     1\n",
              "3  2006.01.01                                                NaN     1\n",
              "4  2006.01.01  중소기업청/NNG,폭설/NNG,피해/NNG,입/VV,중소기업/NNG,신속/NNG,복...     1"
            ]
          },
          "metadata": {
            "tags": []
          },
          "execution_count": 29
        }
      ]
    },
    {
      "cell_type": "code",
      "metadata": {
        "id": "_t7uIt70R-i6",
        "colab_type": "code",
        "colab": {}
      },
      "source": [
        "base_df\n",
        "base_df.to_csv(\"NBC-merged.csv\", encoding='UTF-8', mode='w')\n",
        "\n",
        "\n",
        "\n",
        "#datetime.datetime.strptime(\"2017-01-02 14:44\", \"%Y-%m-%d %H:%M\")"
      ],
      "execution_count": 0,
      "outputs": []
    },
    {
      "cell_type": "code",
      "metadata": {
        "id": "-sVpSU8FR-i_",
        "colab_type": "code",
        "colab": {},
        "outputId": "5e2a65ba-2b7d-48a9-a1fd-a84b77dc0a78"
      },
      "source": [
        "base_df.shape"
      ],
      "execution_count": 0,
      "outputs": [
        {
          "output_type": "execute_result",
          "data": {
            "text/plain": [
              "(158969, 3)"
            ]
          },
          "metadata": {
            "tags": []
          },
          "execution_count": 9
        }
      ]
    },
    {
      "cell_type": "code",
      "metadata": {
        "id": "0uBL_kY_R-jG",
        "colab_type": "code",
        "colab": {}
      },
      "source": [
        ""
      ],
      "execution_count": 0,
      "outputs": []
    }
  ]
}